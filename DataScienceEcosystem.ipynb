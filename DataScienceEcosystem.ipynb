{
 "cells": [
  {
   "cell_type": "markdown",
   "id": "ea7fa821-c56d-4b8e-8c92-4b5d34073a59",
   "metadata": {},
   "source": [
    "## Data Science Tools and Ecosystem"
   ]
  },
  {
   "cell_type": "markdown",
   "id": "8ea5c1cf-18bc-44b3-b92b-24bc1a24f80a",
   "metadata": {},
   "source": [
    "In this notebook, Data Science Tools and Ecosystem are summarized."
   ]
  },
  {
   "cell_type": "markdown",
   "id": "4ff243e1-7848-4cef-9f95-6bf33661d62c",
   "metadata": {},
   "source": [
    "Some of the popular languages that Data Scientists use are:\n",
    "1. R\n",
    "2. Python\n",
    "4. SQL"
   ]
  },
  {
   "cell_type": "markdown",
   "id": "4184999b-9df8-4338-9b31-a778cce7a76c",
   "metadata": {},
   "source": [
    "Some of the commonly used libraries used by Data Scientists include:\n",
    "1. pandas\n",
    "2. numpy\n",
    "3. Scipy"
   ]
  },
  {
   "cell_type": "markdown",
   "id": "75425635-c347-42df-b424-b1188c41debd",
   "metadata": {},
   "source": [
    "|Data Science Tools|\n",
    "|-----|\n",
    "|anaconda|\n",
    "|jupyter notebook|\n",
    "|R studio|"
   ]
  },
  {
   "cell_type": "markdown",
   "id": "406eb43f-4bfc-4bc3-a052-cd58878cab49",
   "metadata": {},
   "source": [
    "### Below are a few examples of evaluating arithmetic expressions in Python"
   ]
  },
  {
   "cell_type": "code",
   "execution_count": 2,
   "id": "cb003f7c-db57-4c90-8463-d960eb053967",
   "metadata": {},
   "outputs": [
    {
     "data": {
      "text/plain": [
       "17"
      ]
     },
     "execution_count": 2,
     "metadata": {},
     "output_type": "execute_result"
    }
   ],
   "source": [
    "(3*4)+5\n",
    "#This a simple arithmetic expression to mutiply then add integers"
   ]
  },
  {
   "cell_type": "code",
   "execution_count": 3,
   "id": "10507da8-8c49-4581-8eb4-b9fb14252980",
   "metadata": {},
   "outputs": [
    {
     "data": {
      "text/plain": [
       "3.3333333333333335"
      ]
     },
     "execution_count": 3,
     "metadata": {},
     "output_type": "execute_result"
    }
   ],
   "source": [
    "200/60\n",
    "#This will convert 200 minutes to hours by diving by 60"
   ]
  },
  {
   "cell_type": "markdown",
   "id": "722d82a0-89ab-407b-85e9-3d55b813462e",
   "metadata": {},
   "source": [
    "### Objectives:\n",
    "- List some popular languages in Data Science\n",
    "- Create Jupyter Noteboook file\n",
    "- Do some simple arithmetic"
   ]
  },
  {
   "cell_type": "markdown",
   "id": "5ba39253-dde6-4327-aa34-c54e56523e40",
   "metadata": {},
   "source": [
    "## Author\n",
    "Lam Tran"
   ]
  },
  {
   "cell_type": "code",
   "execution_count": null,
   "id": "f9313b9c-c6eb-4ad6-8866-4fd3e1cdc79c",
   "metadata": {},
   "outputs": [],
   "source": []
  }
 ],
 "metadata": {
  "kernelspec": {
   "display_name": "Python 3 (ipykernel)",
   "language": "python",
   "name": "python3"
  },
  "language_info": {
   "codemirror_mode": {
    "name": "ipython",
    "version": 3
   },
   "file_extension": ".py",
   "mimetype": "text/x-python",
   "name": "python",
   "nbconvert_exporter": "python",
   "pygments_lexer": "ipython3",
   "version": "3.12.9"
  }
 },
 "nbformat": 4,
 "nbformat_minor": 5
}
